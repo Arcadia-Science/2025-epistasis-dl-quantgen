{
 "cells": [
  {
   "cell_type": "code",
   "execution_count": 75,
   "metadata": {},
   "outputs": [],
   "source": [
    "#!/usr/bin/env python3\n",
    "import pickle as pk\n",
    "import sys\n",
    "import time as tm\n",
    "from argparse import ArgumentParser\n",
    "import pandas as pd\n",
    "\n",
    "import matplotlib.pyplot as plt\n",
    "import numpy as np\n",
    "import scipy as sc\n",
    "import seaborn as sns\n",
    "import torch\n",
    "import torch.nn as nn\n",
    "import torch.nn.functional as F\n",
    "from captum.attr import FeatureAblation\n",
    "from sklearn.metrics import mean_squared_error, r2_score, f1_score\n",
    "from torch.utils.data.dataset import Dataset\n",
    "\n",
    "sns.set_theme()"
   ]
  },
  {
   "cell_type": "code",
   "execution_count": 76,
   "metadata": {},
   "outputs": [],
   "source": [
    "class dataset_geno(Dataset):\n",
    "    \"\"\"a class for importing simulated genotype-phenotype data.\n",
    "    It expects a pickled object that is organized as a list of tensors:\n",
    "    genotypes[n_animals, n_loci, n_alleles] (one hot at allelic state)\n",
    "    gen_locs[n_animals, n_loci] (index of allelic state)\n",
    "    weights[n_phens, n_loci, n_alleles] float weight for allelic contribution to phen\n",
    "    phens[n_animals,n_phens] float value for phenotype\n",
    "    indexes_of_loci_influencing_phen[n_phens,n_loci_ip] integer indicies of loci that influence a phenotype\n",
    "    interaction_matrix[FILL THIS IN]\n",
    "    pleiotropy_matrix[n_phens, n_phens, gen_index]\"\"\"\n",
    "\n",
    "    def __init__(self, data_file, n_geno):\n",
    "        self.datset = pk.load(open(data_file, \"rb\"))\n",
    "        self.genotypes = torch.tensor(np.array(self.datset[\"genotypes\"]), dtype=torch.float32)\n",
    "        self.data_file = data_file\n",
    "        self.n_geno = n_geno\n",
    "\n",
    "    def __len__(self):\n",
    "        return len(self.genotypes)\n",
    "\n",
    "    def __getitem__(self, idx):\n",
    "        genotypes = torch.flatten(self.genotypes[idx])\n",
    "        return genotypes"
   ]
  },
  {
   "cell_type": "code",
   "execution_count": 77,
   "metadata": {},
   "outputs": [],
   "source": [
    "n_geno = 4200\n",
    "n_alleles = 2\n",
    "latent_space_g = 4200\n",
    "num_epochs_gen = 15\n"
   ]
  },
  {
   "cell_type": "code",
   "execution_count": 78,
   "metadata": {},
   "outputs": [],
   "source": [
    "train_data_geno = dataset_geno('sim_2trait_dec20_train.pk', n_geno=n_geno)\n",
    "test_data_geno = dataset_geno('sim_2trait_dec20_test.pk', n_geno=n_geno)\n"
   ]
  },
  {
   "cell_type": "code",
   "execution_count": 79,
   "metadata": {},
   "outputs": [],
   "source": [
    "test_loader_geno = torch.utils.data.DataLoader(\n",
    "    dataset=test_data_geno, batch_size=200, num_workers=1, shuffle=True\n",
    ")\n",
    "\n",
    "\n",
    "train_loader_geno = torch.utils.data.DataLoader(\n",
    "    dataset=train_data_geno, batch_size=200, num_workers=1, shuffle=True\n",
    ")\n"
   ]
  },
  {
   "cell_type": "markdown",
   "metadata": {},
   "source": [
    "# define encoder/decoder architecture"
   ]
  },
  {
   "cell_type": "code",
   "execution_count": 80,
   "metadata": {},
   "outputs": [],
   "source": [
    "# gencoder\n",
    "class GQ_net(nn.Module):\n",
    "    def __init__(self, n_loci=None, N=None):\n",
    "        super().__init__()\n",
    "        if N is None:\n",
    "            N = latent_space_g\n",
    "        if n_loci is None:\n",
    "            n_loci = n_geno * n_alleles\n",
    "\n",
    "        batchnorm_momentum = 0.8\n",
    "        g_latent_dim = latent_space_g\n",
    "        self.encoder = nn.Sequential(\n",
    "            nn.Linear(in_features=n_loci, out_features=N),\n",
    "            nn.BatchNorm1d(N, momentum=0.8),\n",
    "            nn.LeakyReLU(0.01),\n",
    "            nn.Linear(in_features=N, out_features=g_latent_dim),\n",
    "            nn.BatchNorm1d(g_latent_dim, momentum=0.8),\n",
    "            nn.LeakyReLU(0.01),\n",
    "        )\n",
    "\n",
    "    def forward(self, x):\n",
    "        x = self.encoder(x)\n",
    "        return x\n",
    "\n",
    "\n",
    "# gendecoder\n",
    "class GP_net(nn.Module):\n",
    "    def __init__(self, n_loci=None, N=None):\n",
    "        super().__init__()\n",
    "        if N is None:\n",
    "            N = latent_space_g\n",
    "        if n_loci is None:\n",
    "            n_loci = n_geno * n_alleles\n",
    "\n",
    "        batchnorm_momentum = 0.8\n",
    "        g_latent_dim = latent_space_g\n",
    "        self.encoder = nn.Sequential(\n",
    "            nn.Linear(in_features=g_latent_dim, out_features=N),\n",
    "            nn.BatchNorm1d(N, momentum=batchnorm_momentum),\n",
    "            nn.LeakyReLU(0.01),\n",
    "            nn.Linear(in_features=N, out_features=n_loci),\n",
    "            nn.Sigmoid(),\n",
    "        )\n",
    "\n",
    "    def forward(self, x):\n",
    "        x = self.encoder(x)\n",
    "        return x\n"
   ]
  },
  {
   "cell_type": "code",
   "execution_count": 81,
   "metadata": {},
   "outputs": [
    {
     "name": "stdout",
     "output_type": "stream",
     "text": [
      "cuda\n"
     ]
    }
   ],
   "source": [
    "device = torch.device(\"cuda\" if torch.cuda.is_available() else \"cpu\")\n",
    "print(device)\n",
    "\n",
    "GQ = GQ_net()\n",
    "GP = GP_net()\n",
    "\n",
    "GQ.to(device)\n",
    "GP.to(device)\n",
    "\n",
    "EPS = 1e-15\n",
    "reg_lr = 0.00001\n",
    "adam_b = (0.5, 0.999)\n",
    "\n",
    "optim_GQ_enc = torch.optim.Adam(GQ.parameters(), lr=reg_lr, betas=adam_b)\n",
    "optim_GP_dec = torch.optim.Adam(GP.parameters(), lr=reg_lr, betas=adam_b)\n"
   ]
  },
  {
   "cell_type": "code",
   "execution_count": 82,
   "metadata": {},
   "outputs": [],
   "source": [
    "%%script false --no-raise-error\n",
    "\n",
    "\n",
    "\n",
    "in_genos = pk.load(open('sim_2trait_dec18.pk','rb'))\n",
    "in_genos = in_genos['genotypes']\n",
    "\n",
    "# Convert to a PyTorch tensor\n",
    "tensor = torch.tensor(in_genos)\n",
    "\n",
    "# Sum across the first axis\n",
    "summed_tensor = tensor.sum(dim=0)\n",
    "\n",
    "# Flatten the summed tensor\n",
    "pop_freqs = summed_tensor.flatten()\n",
    "\n",
    "#calculated allele weights based on abundance\n",
    "allele_weights = (3000-pop_freqs+EPS)/((pop_freqs+EPS)) #calculate relative allele freq of 1's in batch\n",
    "#allele_weights = 1/((pop_freqs+EPS)/3000) #calculate relative allele freq of 1's in batch\n",
    "#allele_weights.clamp_(min=1)\n",
    "\n",
    "#plt.hist(allele_weights)\n",
    "\n",
    "\n",
    "\n",
    "allele_weights = allele_weights.to(device)"
   ]
  },
  {
   "cell_type": "code",
   "execution_count": 83,
   "metadata": {},
   "outputs": [
    {
     "name": "stdout",
     "output_type": "stream",
     "text": [
      "Epoch num: 0 batchno 12 r_con_loss: 0.7094231843948364 epoch duration: 1.433809518814087\n",
      "Epoch num: 1 batchno 12 r_con_loss: 0.70307856798172 epoch duration: 1.4375252723693848\n",
      "Epoch num: 2 batchno 12 r_con_loss: 0.6988810896873474 epoch duration: 1.4656579494476318\n",
      "Epoch num: 3 batchno 12 r_con_loss: 0.6945291757583618 epoch duration: 1.4651365280151367\n",
      "Epoch num: 4 batchno 12 r_con_loss: 0.6904513835906982 epoch duration: 1.4732680320739746\n",
      "Epoch num: 5 batchno 12 r_con_loss: 0.686828076839447 epoch duration: 1.5700488090515137\n",
      "Epoch num: 6 batchno 12 r_con_loss: 0.6834122538566589 epoch duration: 1.5122699737548828\n",
      "Epoch num: 7 batchno 12 r_con_loss: 0.6799458265304565 epoch duration: 1.4939076900482178\n",
      "Epoch num: 8 batchno 12 r_con_loss: 0.67683345079422 epoch duration: 1.5017776489257812\n",
      "Epoch num: 9 batchno 12 r_con_loss: 0.6737257242202759 epoch duration: 1.4649333953857422\n",
      "Epoch num: 10 batchno 12 r_con_loss: 0.6706392765045166 epoch duration: 1.456078052520752\n",
      "Epoch num: 11 batchno 12 r_con_loss: 0.6679675579071045 epoch duration: 1.4794397354125977\n",
      "Epoch num: 12 batchno 12 r_con_loss: 0.6652964949607849 epoch duration: 1.4816200733184814\n",
      "Epoch num: 13 batchno 12 r_con_loss: 0.6627912521362305 epoch duration: 1.4588465690612793\n",
      "Epoch num: 14 batchno 12 r_con_loss: 0.6601323485374451 epoch duration: 1.5053362846374512\n"
     ]
    }
   ],
   "source": [
    "\n",
    "# train genetic autoencoder\n",
    "g_rcon_loss = []\n",
    "start_time = tm.time()\n",
    "\n",
    "gen_noise = 1 - 0.3\n",
    "#gen_noise = 1 - 0.001\n",
    "\n",
    "for n in range(num_epochs_gen):\n",
    "    for i, (gens) in enumerate(train_loader_geno):\n",
    "        batch_size = gens.shape[0]  # redefine batch size here to allow for incomplete batches\n",
    "\n",
    "        # reconstruction loss\n",
    "        GP.zero_grad()\n",
    "        GQ.zero_grad()\n",
    "\n",
    "        gens = gens[:, : n_geno*n_alleles]\n",
    "\n",
    "        pos_noise = np.random.binomial(1, gen_noise / 2, gens.shape)\n",
    "\n",
    "        neg_noise = np.random.binomial(1, gen_noise / 2, gens.shape)\n",
    "\n",
    "        noise_gens = torch.tensor(\n",
    "            np.where((gens + pos_noise - neg_noise) > 0, 1, 0), dtype=torch.float32\n",
    "        )\n",
    "\n",
    "        noise_gens = noise_gens.to(device)\n",
    "\n",
    "        gens = gens.to(device)\n",
    "\n",
    "        #batch_allele_freq = (1-gens.mean(dim=0)+EPS)/((gens.mean(dim=0)+EPS)) #calculate relative allele freq of 1's in batch\n",
    "\n",
    "        #weights = torch.where(  #checks where input g tensor =1, if 1, then puts weight for 1, otherwise puts 1/weight for 0\n",
    "        #    gens == 1,\n",
    "        #    allele_weights,\n",
    "        #    1/allele_weights)\n",
    "        #weights = weights.to(device)\n",
    "\n",
    "        #print(gens)\n",
    "        #print(weights)\n",
    "\n",
    "\n",
    "        #z_sample = GQ(noise_gens)\n",
    "        z_sample = GQ(gens)\n",
    "        X_sample = GP(z_sample)\n",
    "\n",
    "\n",
    "\n",
    "        g_recon_loss = F.binary_cross_entropy(X_sample + EPS, gens + EPS) #, weight=weights)\n",
    "\n",
    "        l1_reg = torch.linalg.norm(torch.sum(GQ.encoder[0].weight, axis=0), 1)\n",
    "        l2_reg = torch.linalg.norm(torch.sum(GQ.encoder[0].weight, axis=0), 2)\n",
    "\n",
    "        #g_recon_loss = g_recon_loss + l1_reg * 0.00001 + l2_reg * 0.00001\n",
    "        g_recon_loss = g_recon_loss + l1_reg * 0 + l2_reg * 0\n",
    "        g_rcon_loss.append(float(g_recon_loss.detach()))\n",
    "\n",
    "        g_recon_loss.backward()\n",
    "        optim_GQ_enc.step()\n",
    "        optim_GP_dec.step()\n",
    "\n",
    "    cur_time = tm.time() - start_time\n",
    "    start_time = tm.time()\n",
    "    print(\n",
    "        \"Epoch num: \"\n",
    "        + str(n)\n",
    "        + \" batchno \"\n",
    "        + str(i)\n",
    "        + \" r_con_loss: \"\n",
    "        + str(g_rcon_loss[-1])\n",
    "        + \" epoch duration: \"\n",
    "        + str(cur_time)\n",
    "    )\n"
   ]
  },
  {
   "cell_type": "code",
   "execution_count": 84,
   "metadata": {},
   "outputs": [
    {
     "data": {
      "text/plain": [
       "[<matplotlib.lines.Line2D at 0x72cae0552b40>]"
      ]
     },
     "execution_count": 84,
     "metadata": {},
     "output_type": "execute_result"
    },
    {
     "data": {
      "image/png": "[encoded data removed]",
      "text/plain": [
       "<Figure size 640x480 with 1 Axes>"
      ]
     },
     "metadata": {},
     "output_type": "display_data"
    }
   ],
   "source": [
    "plt.plot(g_rcon_loss)"
   ]
  },
  {
   "cell_type": "code",
   "execution_count": 85,
   "metadata": {},
   "outputs": [],
   "source": [
    "pred_gg = pd.DataFrame(X_sample.cpu().detach().numpy().T)\n",
    "pred_gg_odd = pred_gg[1::2] #select only second position to easily tell if predicitng derived allele well\n",
    "\n",
    "gens = gens.cpu()\n",
    "gens_odd = gens[:, 1::2]\n"
   ]
  },
  {
   "cell_type": "code",
   "execution_count": 86,
   "metadata": {},
   "outputs": [
    {
     "name": "stdout",
     "output_type": "stream",
     "text": [
      "\n",
      " col_0           0.0   1.0\n",
      "samp1_rounded            \n",
      "0.0            1274   829\n",
      "1.0             812  1285\n",
      "\n",
      " col_0           0.0   1.0\n",
      "samp2_rounded            \n",
      "0.0            1250   830\n",
      "1.0             810  1310\n",
      "\n",
      " col_0           0.0   1.0\n",
      "samp3_rounded            \n",
      "0.0            1349   759\n",
      "1.0             811  1281\n",
      "\n",
      " col_0           0.0   1.0\n",
      "samp4_rounded            \n",
      "0.0            1289   835\n",
      "1.0             793  1283\n"
     ]
    },
    {
     "name": "stderr",
     "output_type": "stream",
     "text": [
      "/tmp/ipykernel_66509/2711763276.py:1: SettingWithCopyWarning: \n",
      "A value is trying to be set on a copy of a slice from a DataFrame.\n",
      "Try using .loc[row_indexer,col_indexer] = value instead\n",
      "\n",
      "See the caveats in the documentation: https://pandas.pydata.org/pandas-docs/stable/user_guide/indexing.html#returning-a-view-versus-a-copy\n",
      "  pred_gg_odd[\"samp1_rounded\"] = (pred_gg_odd[0] / 1).round()\n",
      "/tmp/ipykernel_66509/2711763276.py:2: SettingWithCopyWarning: \n",
      "A value is trying to be set on a copy of a slice from a DataFrame.\n",
      "Try using .loc[row_indexer,col_indexer] = value instead\n",
      "\n",
      "See the caveats in the documentation: https://pandas.pydata.org/pandas-docs/stable/user_guide/indexing.html#returning-a-view-versus-a-copy\n",
      "  pred_gg_odd[\"samp2_rounded\"] = (pred_gg_odd[1] / 1).round()\n",
      "/tmp/ipykernel_66509/2711763276.py:3: SettingWithCopyWarning: \n",
      "A value is trying to be set on a copy of a slice from a DataFrame.\n",
      "Try using .loc[row_indexer,col_indexer] = value instead\n",
      "\n",
      "See the caveats in the documentation: https://pandas.pydata.org/pandas-docs/stable/user_guide/indexing.html#returning-a-view-versus-a-copy\n",
      "  pred_gg_odd[\"samp3_rounded\"] = (pred_gg_odd[2] / 1).round()\n",
      "/tmp/ipykernel_66509/2711763276.py:4: SettingWithCopyWarning: \n",
      "A value is trying to be set on a copy of a slice from a DataFrame.\n",
      "Try using .loc[row_indexer,col_indexer] = value instead\n",
      "\n",
      "See the caveats in the documentation: https://pandas.pydata.org/pandas-docs/stable/user_guide/indexing.html#returning-a-view-versus-a-copy\n",
      "  pred_gg_odd[\"samp4_rounded\"] = (pred_gg_odd[3] / 1).round()\n"
     ]
    }
   ],
   "source": [
    "\n",
    "pred_gg_odd[\"samp1_rounded\"] = (pred_gg_odd[0] / 1).round()\n",
    "pred_gg_odd[\"samp2_rounded\"] = (pred_gg_odd[1] / 1).round()\n",
    "pred_gg_odd[\"samp3_rounded\"] = (pred_gg_odd[2] / 1).round()\n",
    "pred_gg_odd[\"samp4_rounded\"] = (pred_gg_odd[3] / 1).round()\n",
    "\n",
    "\n",
    "contingency_table = pd.crosstab(pred_gg_odd[\"samp1_rounded\"], gens_odd[0])\n",
    "print('\\n',contingency_table)\n",
    "\n",
    "contingency_table = pd.crosstab(pred_gg_odd[\"samp2_rounded\"], gens_odd[1])\n",
    "print('\\n',contingency_table)\n",
    "\n",
    "\n",
    "contingency_table = pd.crosstab(pred_gg_odd[\"samp3_rounded\"], gens_odd[2])\n",
    "print('\\n',contingency_table)\n",
    "\n",
    "\n",
    "contingency_table = pd.crosstab(pred_gg_odd[\"samp4_rounded\"], gens_odd[3])\n",
    "print('\\n',contingency_table)\n"
   ]
  },
  {
   "cell_type": "markdown",
   "metadata": {},
   "source": [
    "Evaluate g-g on decoder"
   ]
  },
  {
   "cell_type": "code",
   "execution_count": 87,
   "metadata": {},
   "outputs": [],
   "source": [
    "\n",
    "# test the g-g prediction\n",
    "gen_encodings = []\n",
    "phens = []\n",
    "gen_latent = []\n",
    "gen_original = []\n",
    "\n",
    "\n",
    "GQ.eval()\n",
    "GP.eval()\n",
    "\n",
    "for dat in test_loader_geno:\n",
    "    gt = dat\n",
    "    gt = gt[:, : n_geno * n_alleles]\n",
    "    gt = gt.to(device)\n",
    "    batch_size = 10\n",
    "    z_sample = GQ(gt)\n",
    "    X_sample = GP(z_sample)\n",
    "    gen_encodings += list(X_sample.detach().cpu().numpy())\n",
    "    gen_latent += list(z_sample.detach().cpu().numpy())\n",
    "    gen_original += list(gt.detach().cpu().numpy())\n"
   ]
  },
  {
   "cell_type": "code",
   "execution_count": 88,
   "metadata": {},
   "outputs": [
    {
     "name": "stdout",
     "output_type": "stream",
     "text": [
      "0.5159947382888777\n"
     ]
    },
    {
     "data": {
      "image/png": "[encoded data removed]",
      "text/plain": [
       "<Figure size 640x480 with 1 Axes>"
      ]
     },
     "metadata": {},
     "output_type": "display_data"
    }
   ],
   "source": [
    "gen_encodings_odd = [array[1::2] for array in gen_encodings]\n",
    "gen_original_odd = [array[1::2] for array in gen_original]\n",
    "\n",
    "f1err = [(f1_score((gen_encodings_odd[n] / 1).round(), gen_original_odd[n])) for n in range(len(gen_original_odd[:len(gen_original_odd)]))]\n",
    "plt.hist(f1err)\n",
    "print(np.mean(f1err))"
   ]
  },
  {
   "cell_type": "code",
   "execution_count": 89,
   "metadata": {},
   "outputs": [
    {
     "name": "stdout",
     "output_type": "stream",
     "text": [
      "col_0   0.0   1.0\n",
      "row_0            \n",
      "0.0    1061  1069\n",
      "1.0     997  1073\n",
      "0.5094966761633428\n"
     ]
    }
   ],
   "source": [
    "print(pd.crosstab((gen_encodings_odd[4] / 1).round(), gen_original_odd[4]))\n",
    "print(f1_score((gen_encodings_odd[4] / 1).round(), gen_original_odd[4]))\n"
   ]
  },
  {
   "cell_type": "code",
   "execution_count": 90,
   "metadata": {},
   "outputs": [],
   "source": [
    "%%script false --no-raise-error\n",
    "\n",
    "\n",
    "\n",
    "\n",
    "\n",
    "\n",
    "from sklearn.decomposition import PCA\n",
    "from sklearn.manifold import TSNE\n",
    "\n",
    "full_data_geno = dataset_geno('sim_2trait_dec18.pk', n_geno=n_geno )\n",
    "\n",
    "\n",
    "full_loader_geno = torch.utils.data.DataLoader(\n",
    "    dataset=full_data_geno, batch_size=10, num_workers=1, shuffle=True\n",
    ")"
   ]
  },
  {
   "cell_type": "code",
   "execution_count": 91,
   "metadata": {},
   "outputs": [],
   "source": [
    "%%script false --no-raise-error\n",
    "\n",
    "\n",
    "\n",
    "\n",
    "\n",
    "# visualise the g-g prediction on full dataset\n",
    "gen_encodings = []\n",
    "phens = []\n",
    "gen_latent = []\n",
    "gen_original = []\n",
    "\n",
    "\n",
    "GQ.eval()\n",
    "GP.eval()\n",
    "\n",
    "for dat in full_loader_geno:\n",
    "    gt = dat\n",
    "    gt = gt[:, : 97323]\n",
    "    gt = gt.to(device)\n",
    "    batch_size = 10\n",
    "    z_sample = GQ(gt)\n",
    "    X_sample = GP(z_sample)\n",
    "    gen_encodings += list(X_sample.detach().cpu().numpy())\n",
    "    gen_latent += list(z_sample.detach().cpu().numpy())\n",
    "    gen_original += list(gt.detach().cpu().numpy())"
   ]
  },
  {
   "cell_type": "code",
   "execution_count": 92,
   "metadata": {},
   "outputs": [],
   "source": [
    "%%script false --no-raise-error\n",
    "\n",
    "\n",
    "\n",
    "latent_df = pd.DataFrame(gen_latent)\n",
    "latent_df\n",
    "\n",
    "pca = PCA(n_components=3)\n",
    "pca_result = pca.fit_transform(latent_df.values)\n",
    "pca_result_df = pd.DataFrame(pca_result)\n",
    "pca_result_df"
   ]
  },
  {
   "cell_type": "code",
   "execution_count": 93,
   "metadata": {},
   "outputs": [],
   "source": [
    "#plt.figure(figsize=(5,5))\n",
    "#sns.scatterplot(\n",
    "#    x=pca_result_df[0], y=pca_result_df[1],\n",
    "#    palette=sns.color_palette(\"hls\", 10),\n",
    "#    data=pca_result_df,\n",
    "#    legend=\"full\",\n",
    "#    alpha=0.3\n",
    "#)"
   ]
  },
  {
   "cell_type": "code",
   "execution_count": 94,
   "metadata": {},
   "outputs": [],
   "source": [
    "#tsne = TSNE(n_components=2, verbose=1, perplexity=40, n_iter=300)\n",
    "#tsne_results = tsne.fit_transform(latent_df)\n",
    "#tsne_results_df = pd.DataFrame(tsne_results)\n",
    "#tsne_results_df"
   ]
  },
  {
   "cell_type": "code",
   "execution_count": 95,
   "metadata": {},
   "outputs": [],
   "source": [
    "#plt.figure(figsize=(7,7))\n",
    "\n",
    "#sns.scatterplot(\n",
    "#    x=tsne_results_df[0], y=tsne_results_df[1],\n",
    "#    palette=sns.color_palette(\"hls\", 10),\n",
    "#    data=tsne_results_df,\n",
    "#    legend=\"full\",\n",
    "#    alpha=0.7\n",
    "#)"
   ]
  }
 ],
 "metadata": {
  "kernelspec": {
   "display_name": "gpatlas",
   "language": "python",
   "name": "python3"
  },
  "language_info": {
   "codemirror_mode": {
    "name": "ipython",
    "version": 3
   },
   "file_extension": ".py",
   "mimetype": "text/x-python",
   "name": "python",
   "nbconvert_exporter": "python",
   "pygments_lexer": "ipython3",
   "version": "3.12.0"
  }
 },
 "nbformat": 4,
 "nbformat_minor": 2
}
