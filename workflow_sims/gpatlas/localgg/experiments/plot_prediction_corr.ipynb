{
 "cells": [
  {
   "cell_type": "code",
   "execution_count": 4,
   "metadata": {},
   "outputs": [],
   "source": [
    "import matplotlib.pyplot as plt\n",
    "import pandas as pd\n",
    "import numpy as np\n"
   ]
  },
  {
   "cell_type": "code",
   "execution_count": 5,
   "metadata": {},
   "outputs": [],
   "source": [
    "df1 = pd.read_csv('test_sim_WF_10kbt_gamma0_GQtrain_addonly_corrs_pheno_corr.csv')\n",
    "df2 = pd.read_csv('test_sim_WF_10kbt_gamma0_GQtrain_corrs_pheno_corr.csv')\n",
    "\n",
    "#sandler_gpatlas_data/workflow_sims/rrBLUP_output/test_sim_WF_1kbt_10000n_5000000_corr_sumary.txt"
   ]
  },
  {
   "cell_type": "code",
   "execution_count": 6,
   "metadata": {},
   "outputs": [
    {
     "data": {
      "text/html": [
       "<div>\n",
       "<style scoped>\n",
       "    .dataframe tbody tr th:only-of-type {\n",
       "        vertical-align: middle;\n",
       "    }\n",
       "\n",
       "    .dataframe tbody tr th {\n",
       "        vertical-align: top;\n",
       "    }\n",
       "\n",
       "    .dataframe thead th {\n",
       "        text-align: right;\n",
       "    }\n",
       "</style>\n",
       "<table border=\"1\" class=\"dataframe\">\n",
       "  <thead>\n",
       "    <tr style=\"text-align: right;\">\n",
       "      <th></th>\n",
       "      <th>trait_number</th>\n",
       "      <th>pearson_correlation</th>\n",
       "      <th>p_value</th>\n",
       "      <th>true_mean</th>\n",
       "      <th>pred_mean</th>\n",
       "      <th>true_std</th>\n",
       "      <th>pred_std</th>\n",
       "      <th>trait_architecture</th>\n",
       "    </tr>\n",
       "  </thead>\n",
       "  <tbody>\n",
       "    <tr>\n",
       "      <th>0</th>\n",
       "      <td>1</td>\n",
       "      <td>0.228160</td>\n",
       "      <td>3.636348e-19</td>\n",
       "      <td>0.026977</td>\n",
       "      <td>0.170328</td>\n",
       "      <td>2.469879</td>\n",
       "      <td>0.815507</td>\n",
       "      <td>1-5</td>\n",
       "    </tr>\n",
       "    <tr>\n",
       "      <th>1</th>\n",
       "      <td>2</td>\n",
       "      <td>0.288551</td>\n",
       "      <td>3.736766e-30</td>\n",
       "      <td>0.023009</td>\n",
       "      <td>-0.209764</td>\n",
       "      <td>2.452337</td>\n",
       "      <td>0.826200</td>\n",
       "      <td>1-5</td>\n",
       "    </tr>\n",
       "    <tr>\n",
       "      <th>2</th>\n",
       "      <td>3</td>\n",
       "      <td>0.234706</td>\n",
       "      <td>3.215252e-20</td>\n",
       "      <td>0.029189</td>\n",
       "      <td>0.006026</td>\n",
       "      <td>2.559656</td>\n",
       "      <td>0.817167</td>\n",
       "      <td>1-5</td>\n",
       "    </tr>\n",
       "    <tr>\n",
       "      <th>3</th>\n",
       "      <td>4</td>\n",
       "      <td>0.215474</td>\n",
       "      <td>3.239047e-17</td>\n",
       "      <td>-0.056997</td>\n",
       "      <td>-0.203183</td>\n",
       "      <td>2.520216</td>\n",
       "      <td>0.864828</td>\n",
       "      <td>1-5</td>\n",
       "    </tr>\n",
       "    <tr>\n",
       "      <th>4</th>\n",
       "      <td>5</td>\n",
       "      <td>0.216466</td>\n",
       "      <td>2.302686e-17</td>\n",
       "      <td>-0.010858</td>\n",
       "      <td>-0.037845</td>\n",
       "      <td>2.449929</td>\n",
       "      <td>0.831575</td>\n",
       "      <td>1-5</td>\n",
       "    </tr>\n",
       "  </tbody>\n",
       "</table>\n",
       "</div>"
      ],
      "text/plain": [
       "   trait_number  pearson_correlation       p_value  true_mean  pred_mean  \\\n",
       "0             1             0.228160  3.636348e-19   0.026977   0.170328   \n",
       "1             2             0.288551  3.736766e-30   0.023009  -0.209764   \n",
       "2             3             0.234706  3.215252e-20   0.029189   0.006026   \n",
       "3             4             0.215474  3.239047e-17  -0.056997  -0.203183   \n",
       "4             5             0.216466  2.302686e-17  -0.010858  -0.037845   \n",
       "\n",
       "   true_std  pred_std trait_architecture  \n",
       "0  2.469879  0.815507                1-5  \n",
       "1  2.452337  0.826200                1-5  \n",
       "2  2.559656  0.817167                1-5  \n",
       "3  2.520216  0.864828                1-5  \n",
       "4  2.449929  0.831575                1-5  "
      ]
     },
     "execution_count": 6,
     "metadata": {},
     "output_type": "execute_result"
    }
   ],
   "source": [
    "df1.head()"
   ]
  },
  {
   "cell_type": "code",
   "execution_count": 7,
   "metadata": {},
   "outputs": [
    {
     "data": {
      "text/plain": [
       "(0.0, 0.6)"
      ]
     },
     "execution_count": 7,
     "metadata": {},
     "output_type": "execute_result"
    },
    {
     "data": {
      "image/png": "[encoded data removed]",
      "text/plain": [
       "<Figure size 500x500 with 1 Axes>"
      ]
     },
     "metadata": {},
     "output_type": "display_data"
    }
   ],
   "source": [
    "fig, ax = plt.subplots(figsize=(5, 5))\n",
    "\n",
    "unique_architectures = df1['trait_architecture'].unique()\n",
    "\n",
    "# Plot each trait_architecture with different colors\n",
    "for architecture in unique_architectures:\n",
    "    subset1 = df1[df1['trait_architecture'] == architecture]\n",
    "    subset2 = df2[df2['trait_architecture'] == architecture]\n",
    "    ax.scatter(subset1['pearson_correlation'], subset2['pearson_correlation'],\n",
    "               label=architecture, alpha=0.7)\n",
    "    ax.axline((1, 1), slope=1, color = 'silver')\n",
    "    ax.set_xlabel('GQ notrain')\n",
    "    ax.set_ylabel('GQ train')\n",
    "\n",
    "\n",
    "\n",
    "\n",
    "ax.set_xlim(0, 0.6)\n",
    "ax.set_ylim(0, 0.6)\n"
   ]
  }
 ],
 "metadata": {
  "kernelspec": {
   "display_name": "gpatlas",
   "language": "python",
   "name": "python3"
  },
  "language_info": {
   "codemirror_mode": {
    "name": "ipython",
    "version": 3
   },
   "file_extension": ".py",
   "mimetype": "text/x-python",
   "name": "python",
   "nbconvert_exporter": "python",
   "pygments_lexer": "ipython3",
   "version": "3.12.0"
  }
 },
 "nbformat": 4,
 "nbformat_minor": 2
}
