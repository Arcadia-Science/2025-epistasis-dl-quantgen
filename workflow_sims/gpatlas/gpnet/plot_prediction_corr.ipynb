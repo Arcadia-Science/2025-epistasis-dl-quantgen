{
 "cells": [
  {
   "cell_type": "code",
   "execution_count": 1,
   "metadata": {},
   "outputs": [],
   "source": [
    "import matplotlib.pyplot as plt\n",
    "import pandas as pd\n",
    "import numpy as np\n"
   ]
  },
  {
   "cell_type": "code",
   "execution_count": 2,
   "metadata": {},
   "outputs": [],
   "source": [
    "df1 = pd.read_csv('test_sim_WF_1kbt_gpnet_lr001_pheno_corr.csv')\n",
    "df2 = pd.read_csv('../localgg/experiments/test_sim_WF_1kbt_gamma0_GQtrain_corrs_pheno_corr.csv')\n",
    "\n",
    "\n",
    "#sandler_gpatlas_data/workflow_sims/rrBLUP_output/test_sim_WF_1kbt_10000n_5000000_corr_sumary.txt"
   ]
  },
  {
   "cell_type": "code",
   "execution_count": 12,
   "metadata": {},
   "outputs": [
    {
     "data": {
      "text/html": [
       "<div>\n",
       "<style scoped>\n",
       "    .dataframe tbody tr th:only-of-type {\n",
       "        vertical-align: middle;\n",
       "    }\n",
       "\n",
       "    .dataframe tbody tr th {\n",
       "        vertical-align: top;\n",
       "    }\n",
       "\n",
       "    .dataframe thead th {\n",
       "        text-align: right;\n",
       "    }\n",
       "</style>\n",
       "<table border=\"1\" class=\"dataframe\">\n",
       "  <thead>\n",
       "    <tr style=\"text-align: right;\">\n",
       "      <th></th>\n",
       "      <th>trait_number</th>\n",
       "      <th>pearson_correlation</th>\n",
       "      <th>p_value</th>\n",
       "      <th>true_mean</th>\n",
       "      <th>pred_mean</th>\n",
       "      <th>true_std</th>\n",
       "      <th>pred_std</th>\n",
       "      <th>trait_architecture</th>\n",
       "    </tr>\n",
       "  </thead>\n",
       "  <tbody>\n",
       "    <tr>\n",
       "      <th>0</th>\n",
       "      <td>1</td>\n",
       "      <td>0.556435</td>\n",
       "      <td>0.0</td>\n",
       "      <td>0.039660</td>\n",
       "      <td>0.178530</td>\n",
       "      <td>2.481668</td>\n",
       "      <td>1.183054</td>\n",
       "      <td>1-5</td>\n",
       "    </tr>\n",
       "    <tr>\n",
       "      <th>1</th>\n",
       "      <td>2</td>\n",
       "      <td>0.539148</td>\n",
       "      <td>0.0</td>\n",
       "      <td>0.049772</td>\n",
       "      <td>-0.075572</td>\n",
       "      <td>2.486170</td>\n",
       "      <td>1.319055</td>\n",
       "      <td>1-5</td>\n",
       "    </tr>\n",
       "    <tr>\n",
       "      <th>2</th>\n",
       "      <td>3</td>\n",
       "      <td>0.555113</td>\n",
       "      <td>0.0</td>\n",
       "      <td>-0.001274</td>\n",
       "      <td>-0.012813</td>\n",
       "      <td>2.452703</td>\n",
       "      <td>1.280213</td>\n",
       "      <td>1-5</td>\n",
       "    </tr>\n",
       "    <tr>\n",
       "      <th>3</th>\n",
       "      <td>4</td>\n",
       "      <td>0.565373</td>\n",
       "      <td>0.0</td>\n",
       "      <td>-0.064866</td>\n",
       "      <td>-0.222285</td>\n",
       "      <td>2.529962</td>\n",
       "      <td>1.257865</td>\n",
       "      <td>1-5</td>\n",
       "    </tr>\n",
       "    <tr>\n",
       "      <th>4</th>\n",
       "      <td>5</td>\n",
       "      <td>0.549355</td>\n",
       "      <td>0.0</td>\n",
       "      <td>0.013416</td>\n",
       "      <td>0.051277</td>\n",
       "      <td>2.460128</td>\n",
       "      <td>1.377178</td>\n",
       "      <td>1-5</td>\n",
       "    </tr>\n",
       "    <tr>\n",
       "      <th>5</th>\n",
       "      <td>6</td>\n",
       "      <td>0.447650</td>\n",
       "      <td>0.0</td>\n",
       "      <td>-0.050722</td>\n",
       "      <td>0.352672</td>\n",
       "      <td>2.443396</td>\n",
       "      <td>1.241004</td>\n",
       "      <td>6-10</td>\n",
       "    </tr>\n",
       "  </tbody>\n",
       "</table>\n",
       "</div>"
      ],
      "text/plain": [
       "   trait_number  pearson_correlation  p_value  true_mean  pred_mean  true_std  \\\n",
       "0             1             0.556435      0.0   0.039660   0.178530  2.481668   \n",
       "1             2             0.539148      0.0   0.049772  -0.075572  2.486170   \n",
       "2             3             0.555113      0.0  -0.001274  -0.012813  2.452703   \n",
       "3             4             0.565373      0.0  -0.064866  -0.222285  2.529962   \n",
       "4             5             0.549355      0.0   0.013416   0.051277  2.460128   \n",
       "5             6             0.447650      0.0  -0.050722   0.352672  2.443396   \n",
       "\n",
       "   pred_std trait_architecture  \n",
       "0  1.183054                1-5  \n",
       "1  1.319055                1-5  \n",
       "2  1.280213                1-5  \n",
       "3  1.257865                1-5  \n",
       "4  1.377178                1-5  \n",
       "5  1.241004               6-10  "
      ]
     },
     "execution_count": 12,
     "metadata": {},
     "output_type": "execute_result"
    }
   ],
   "source": [
    "df1.head(n=6)\n"
   ]
  },
  {
   "cell_type": "code",
   "execution_count": 4,
   "metadata": {},
   "outputs": [
    {
     "data": {
      "text/plain": [
       "(0.0, 0.6)"
      ]
     },
     "execution_count": 4,
     "metadata": {},
     "output_type": "execute_result"
    },
    {
     "data": {
      "image/png": "[encoded data removed]",
      "text/plain": [
       "<Figure size 500x500 with 1 Axes>"
      ]
     },
     "metadata": {},
     "output_type": "display_data"
    }
   ],
   "source": [
    "fig, ax = plt.subplots(figsize=(5, 5))\n",
    "\n",
    "unique_architectures = df1['trait_architecture'].unique()\n",
    "\n",
    "# Plot each trait_architecture with different colors\n",
    "for architecture in unique_architectures:\n",
    "    subset1 = df1[df1['trait_architecture'] == architecture]\n",
    "    subset2 = df2[df2['trait_architecture'] == architecture]\n",
    "    ax.scatter(subset1['pearson_correlation'], subset2['pearson_correlation'],\n",
    "               label=architecture, alpha=0.7)\n",
    "    ax.axline((1, 1), slope=1, color = 'silver')\n",
    "    ax.set_xlabel('gpnet')\n",
    "    ax.set_ylabel('gpatlas')\n",
    "\n",
    "\n",
    "\n",
    "\n",
    "ax.set_xlim(0, 0.6)\n",
    "ax.set_ylim(0, 0.6)\n"
   ]
  },
  {
   "cell_type": "code",
   "execution_count": 14,
   "metadata": {},
   "outputs": [
    {
     "data": {
      "text/html": [
       "<div>\n",
       "<style scoped>\n",
       "    .dataframe tbody tr th:only-of-type {\n",
       "        vertical-align: middle;\n",
       "    }\n",
       "\n",
       "    .dataframe tbody tr th {\n",
       "        vertical-align: top;\n",
       "    }\n",
       "\n",
       "    .dataframe thead th {\n",
       "        text-align: right;\n",
       "    }\n",
       "</style>\n",
       "<table border=\"1\" class=\"dataframe\">\n",
       "  <thead>\n",
       "    <tr style=\"text-align: right;\">\n",
       "      <th></th>\n",
       "      <th>trait</th>\n",
       "      <th>pearson_corr_pheno</th>\n",
       "      <th>pearson_corr_beta</th>\n",
       "      <th>best_lambda</th>\n",
       "      <th>trait_group</th>\n",
       "      <th>trait_architecture</th>\n",
       "    </tr>\n",
       "  </thead>\n",
       "  <tbody>\n",
       "    <tr>\n",
       "      <th>0</th>\n",
       "      <td>1</td>\n",
       "      <td>0.615770</td>\n",
       "      <td>0.141106</td>\n",
       "      <td>15264.179672</td>\n",
       "      <td>1</td>\n",
       "      <td>1-5</td>\n",
       "    </tr>\n",
       "    <tr>\n",
       "      <th>1</th>\n",
       "      <td>2</td>\n",
       "      <td>0.588327</td>\n",
       "      <td>0.143322</td>\n",
       "      <td>15264.179672</td>\n",
       "      <td>1</td>\n",
       "      <td>1-5</td>\n",
       "    </tr>\n",
       "    <tr>\n",
       "      <th>2</th>\n",
       "      <td>3</td>\n",
       "      <td>0.607109</td>\n",
       "      <td>0.142140</td>\n",
       "      <td>15264.179672</td>\n",
       "      <td>1</td>\n",
       "      <td>1-5</td>\n",
       "    </tr>\n",
       "    <tr>\n",
       "      <th>3</th>\n",
       "      <td>4</td>\n",
       "      <td>0.611950</td>\n",
       "      <td>0.142497</td>\n",
       "      <td>15264.179672</td>\n",
       "      <td>1</td>\n",
       "      <td>1-5</td>\n",
       "    </tr>\n",
       "    <tr>\n",
       "      <th>4</th>\n",
       "      <td>5</td>\n",
       "      <td>0.612026</td>\n",
       "      <td>0.142465</td>\n",
       "      <td>15264.179672</td>\n",
       "      <td>1</td>\n",
       "      <td>1-5</td>\n",
       "    </tr>\n",
       "  </tbody>\n",
       "</table>\n",
       "</div>"
      ],
      "text/plain": [
       "   trait  pearson_corr_pheno  pearson_corr_beta   best_lambda  trait_group  \\\n",
       "0      1            0.615770           0.141106  15264.179672            1   \n",
       "1      2            0.588327           0.143322  15264.179672            1   \n",
       "2      3            0.607109           0.142140  15264.179672            1   \n",
       "3      4            0.611950           0.142497  15264.179672            1   \n",
       "4      5            0.612026           0.142465  15264.179672            1   \n",
       "\n",
       "  trait_architecture  \n",
       "0                1-5  \n",
       "1                1-5  \n",
       "2                1-5  \n",
       "3                1-5  \n",
       "4                1-5  "
      ]
     },
     "execution_count": 14,
     "metadata": {},
     "output_type": "execute_result"
    }
   ],
   "source": [
    "df3 = pd.read_csv('../../rrBLUP_output/test_sim_WF_1kbt_10000n_5000000bp_scklrr_corr_summary.txt')\n",
    "df3['trait_group'] = (df3['trait'] - 1) // 5 + 1\n",
    "df3['trait_architecture'] = df3['trait_group'].apply(lambda x: f\"{(x-1)*5 + 1}-{x*5}\")\n",
    "\n",
    "df3.head()"
   ]
  },
  {
   "cell_type": "code",
   "execution_count": 16,
   "metadata": {},
   "outputs": [
    {
     "data": {
      "text/plain": [
       "(0.0, 0.65)"
      ]
     },
     "execution_count": 16,
     "metadata": {},
     "output_type": "execute_result"
    },
    {
     "data": {
      "image/png": "[encoded data removed]",
      "text/plain": [
       "<Figure size 500x500 with 1 Axes>"
      ]
     },
     "metadata": {},
     "output_type": "display_data"
    }
   ],
   "source": [
    "fig, ax = plt.subplots(figsize=(5, 5))\n",
    "\n",
    "unique_architectures = df1['trait_architecture'].unique()\n",
    "\n",
    "# Plot each trait_architecture with different colors\n",
    "for architecture in unique_architectures:\n",
    "    subset1 = df1[df1['trait_architecture'] == architecture]\n",
    "    subset2 = df3[df3['trait_architecture'] == architecture]\n",
    "    ax.scatter(subset1['pearson_correlation'], subset2['pearson_corr_pheno'],\n",
    "               label=architecture, alpha=0.7)\n",
    "    ax.axline((1, 1), slope=1, color = 'silver')\n",
    "    ax.set_xlabel('gpnet')\n",
    "    ax.set_ylabel('linear')\n",
    "\n",
    "\n",
    "\n",
    "\n",
    "ax.set_xlim(0, 0.65)\n",
    "ax.set_ylim(0, 0.65)"
   ]
  }
 ],
 "metadata": {
  "kernelspec": {
   "display_name": "gpatlas",
   "language": "python",
   "name": "python3"
  },
  "language_info": {
   "codemirror_mode": {
    "name": "ipython",
    "version": 3
   },
   "file_extension": ".py",
   "mimetype": "text/x-python",
   "name": "python",
   "nbconvert_exporter": "python",
   "pygments_lexer": "ipython3",
   "version": "3.12.0"
  }
 },
 "nbformat": 4,
 "nbformat_minor": 2
}
